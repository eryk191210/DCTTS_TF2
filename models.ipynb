import tensorflow as tf

from tensorflow.keras.layers import{
  Conv1D,
  Conv2D,
  
}

